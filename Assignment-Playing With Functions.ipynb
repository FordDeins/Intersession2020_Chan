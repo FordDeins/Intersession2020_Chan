{
 "cells": [
  {
   "cell_type": "code",
   "execution_count": 20,
   "metadata": {},
   "outputs": [
    {
     "data": {
      "text/plain": [
       "0.7161955691367456"
      ]
     },
     "execution_count": 20,
     "metadata": {},
     "output_type": "execute_result"
    }
   ],
   "source": [
    "def circumference_to_area(circle_circumference):\n",
    "    area_using_circumference = (circle_circumference**2)/(4*3.1416)\n",
    "    return(area_using_circumference)\n",
    "circumference_to_area(3)"
   ]
  },
  {
   "cell_type": "code",
   "execution_count": 21,
   "metadata": {},
   "outputs": [
    {
     "data": {
      "text/plain": [
       "'aegad'"
      ]
     },
     "execution_count": 21,
     "metadata": {},
     "output_type": "execute_result"
    }
   ],
   "source": [
    "def reverseString(five_character_string):\n",
    "    if len(five_character_string) == 5:\n",
    "        return five_character_string[::-1]\n",
    "    else:\n",
    "        print('This is not a 5 character string.')\n",
    "reverseString(\"dagea\")"
   ]
  },
  {
   "cell_type": "code",
   "execution_count": 22,
   "metadata": {},
   "outputs": [
    {
     "data": {
      "text/plain": [
       "286"
      ]
     },
     "execution_count": 22,
     "metadata": {},
     "output_type": "execute_result"
    }
   ],
   "source": [
    "def backAddition(i):\n",
    "    return int(sum((x*(x+1))/2 for x in range(i)))\n",
    "backAddition(12)"
   ]
  },
  {
   "cell_type": "code",
   "execution_count": 12,
   "metadata": {},
   "outputs": [
    {
     "name": "stdout",
     "output_type": "stream",
     "text": [
      "25164150.0\n"
     ]
    }
   ],
   "source": [
    "def difference_sum_of_square_square_of_sum(n):\n",
    "    sum_of_squares_of_natural_numbers = n*(n+1)*(2*n+1)/6\n",
    "    sum_of_natural_numbers = (n*(n+1))/2\n",
    "    square_of_sum = sum_of_natural_numbers**2\n",
    "    answer = abs(sum_of_squares_of_natural_numbers - square_of_sum)\n",
    "    return answer\n",
    "print(difference_sum_of_square_square_of_sum(100))"
   ]
  },
  {
   "cell_type": "code",
   "execution_count": 19,
   "metadata": {},
   "outputs": [
    {
     "name": "stdout",
     "output_type": "stream",
     "text": [
      "321\n",
      "3\n",
      "0\n",
      "2\n",
      "0\n",
      "1\n"
     ]
    }
   ],
   "source": [
    "def exact_change(cents):\n",
    "    if cents<1:\n",
    "        print('Invalid value.')\n",
    "    else:\n",
    "        print(cents//100)\n",
    "        cents = cents % 100\n",
    "        print(cents//25)\n",
    "        cents = cents % 25\n",
    "        print(cents//10)\n",
    "        cents = cents % 10\n",
    "        print(cents//5)\n",
    "        cents = cents % 5\n",
    "        print(cents//1)\n",
    "        cents = cents % 1\n",
    "cents = int(input())\n",
    "exact_change(321)"
   ]
  },
  {
   "cell_type": "code",
   "execution_count": null,
   "metadata": {},
   "outputs": [],
   "source": []
  }
 ],
 "metadata": {
  "kernelspec": {
   "display_name": "Python 3",
   "language": "python",
   "name": "python3"
  },
  "language_info": {
   "codemirror_mode": {
    "name": "ipython",
    "version": 3
   },
   "file_extension": ".py",
   "mimetype": "text/x-python",
   "name": "python",
   "nbconvert_exporter": "python",
   "pygments_lexer": "ipython3",
   "version": "3.7.6"
  }
 },
 "nbformat": 4,
 "nbformat_minor": 4
}
