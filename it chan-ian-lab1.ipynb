{
 "cells": [
  {
   "cell_type": "markdown",
   "metadata": {},
   "source": [
    "```\n",
    "191070\n",
    "Chan\n",
    "2 BS ME\n",
    "```"
   ]
  },
  {
   "cell_type": "markdown",
   "metadata": {},
   "source": [
    "1. Enter the amount in US Dollars = usd\n",
    "2. Compute for  to Philippine Peso\n",
    "3. Display the conversion"
   ]
  },
  {
   "cell_type": "code",
   "execution_count": 3,
   "metadata": {},
   "outputs": [],
   "source": [
    "def dollars_to_pesos(usd):\n",
    "    php = usd*50\n",
    "    return php"
   ]
  },
  {
   "cell_type": "code",
   "execution_count": 4,
   "metadata": {},
   "outputs": [
    {
     "name": "stdout",
     "output_type": "stream",
     "text": [
      "Enter the amount in US Dollars:420\n",
      "420 US dollar(s) = 21000 Philippine Pesos\n"
     ]
    }
   ],
   "source": [
    "#Enter the amount in US Dollars\n",
    "usd = int(input('Enter the amount in US Dollars:'))\n",
    "#Compute for conversion\n",
    "php = dollars_to_pesos(usd)\n",
    "#Display the conversion\n",
    "print(usd, 'US dollar(s)', '=', php, 'Philippine Pesos')"
   ]
  },
  {
   "cell_type": "markdown",
   "metadata": {},
   "source": [
    "1. Enter first integer = a\n",
    "2. Enter second. integer = b\n",
    "3. Sum of a and b\n",
    "4. bsubtracted from a\n",
    "5. Product of a and b\n",
    "6. Quotient without remainder when a is divided by b\n",
    "7. Remainder of quotient when a is divided by b\n",
    "8. Display values"
   ]
  },
  {
   "cell_type": "code",
   "execution_count": 9,
   "metadata": {},
   "outputs": [],
   "source": [
    "def sum_of_two_integers(a, b):\n",
    "    sum = a + b\n",
    "    return sum\n",
    "\n",
    "def difference_of_two_integers(a, b):\n",
    "    difference = a - b\n",
    "    return difference\n",
    "\n",
    "def product_of_two_integers(a, b):\n",
    "    product = a * b\n",
    "    return product\n",
    "\n",
    "def quotient_without_remainder_of_two_integers(a, b):\n",
    "    quotient = a // b\n",
    "    return quotient\n",
    "\n",
    "def remainder_of_quotient_of_two_integers(a, b):\n",
    "    remainder = a % b\n",
    "    return remainder"
   ]
  },
  {
   "cell_type": "code",
   "execution_count": 10,
   "metadata": {},
   "outputs": [
    {
     "name": "stdout",
     "output_type": "stream",
     "text": [
      "5\n",
      "1\n",
      "6\n",
      "4\n",
      "5\n",
      "5\n",
      "0\n"
     ]
    }
   ],
   "source": [
    "#Enter first integer = a\n",
    "a = int(input())\n",
    "a >= 1\n",
    "#Enter second. integer = b\n",
    "b = int(input())\n",
    "b >=1\n",
    "#Sum of a and b\n",
    "sum = sum_of_two_integers(a, b)\n",
    "#bsubtracted from a\n",
    "difference = difference_of_two_integers(a, b)\n",
    "#Product of a and b\n",
    "product = product_of_two_integers(a, b)\n",
    "#Quotient without remainder when a is divided by b\n",
    "quotient = quotient_without_remainder_of_two_integers(a, b)\n",
    "#Remainder of quotient when a is divided by b\n",
    "remainder =  remainder_of_quotient_of_two_integers(a, b)\n",
    "#Dispay values\n",
    "print(sum)\n",
    "print(difference)\n",
    "print(product)\n",
    "print(quotient)\n",
    "print(remainder)"
   ]
  },
  {
   "cell_type": "markdown",
   "metadata": {},
   "source": [
    "1. Ask for weight = kg\n",
    "2. Ask for height = cm\n",
    "3. Convert cm to m\n",
    "4. Compute for BMI\n",
    "5. Display BMI"
   ]
  },
  {
   "cell_type": "code",
   "execution_count": 11,
   "metadata": {},
   "outputs": [],
   "source": [
    "def compute_bmi(kg, m):\n",
    "    bmi = kg/(m**2)\n",
    "    return bmi\n",
    "def convert_cm_to_m(cm):\n",
    "    m = cm/100\n",
    "    return m"
   ]
  },
  {
   "cell_type": "code",
   "execution_count": 12,
   "metadata": {},
   "outputs": [
    {
     "name": "stdout",
     "output_type": "stream",
     "text": [
      "Enter kg:73\n",
      "Enter cm:189\n",
      "BMI: 20.43615800229557\n"
     ]
    }
   ],
   "source": [
    "#Ask for weight = kg\n",
    "kg = int(input(\"Enter kg:\"))\n",
    "#Ask for height = cm\n",
    "cm = int(input(\"Enter cm:\"))\n",
    "#Convert cm to m\n",
    "m = convert_cm_to_m(cm)\n",
    "#Compute for BMI\n",
    "BMI = compute_bmi(kg, m)\n",
    "#Display BMI\n",
    "print(\"BMI:\", BMI)"
   ]
  },
  {
   "cell_type": "code",
   "execution_count": null,
   "metadata": {},
   "outputs": [],
   "source": []
  }
 ],
 "metadata": {
  "kernelspec": {
   "display_name": "Python 3",
   "language": "python",
   "name": "python3"
  },
  "language_info": {
   "codemirror_mode": {
    "name": "ipython",
    "version": 3
   },
   "file_extension": ".py",
   "mimetype": "text/x-python",
   "name": "python",
   "nbconvert_exporter": "python",
   "pygments_lexer": "ipython3",
   "version": "3.7.6"
  }
 },
 "nbformat": 4,
 "nbformat_minor": 4
}
