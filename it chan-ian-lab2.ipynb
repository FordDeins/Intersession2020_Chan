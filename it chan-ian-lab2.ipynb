{
 "cells": [
  {
   "cell_type": "markdown",
   "metadata": {},
   "source": [
    "### Rectangle"
   ]
  },
  {
   "cell_type": "code",
   "execution_count": 1,
   "metadata": {},
   "outputs": [
    {
     "name": "stdout",
     "output_type": "stream",
     "text": [
      "******\n",
      "******\n",
      "******\n",
      "******\n",
      "******\n",
      "None\n"
     ]
    }
   ],
   "source": [
    "# GRADED FUNCTION\n",
    "def print_rectangle(width, height):\n",
    "    '''\n",
    "    (int, int) -> None\n",
    "    \n",
    "    This function prints a solid rectangle composed of asterisks (\"*\").\n",
    "    This rectangle should be of the specified width and the specified height.\n",
    "    This function does not return any value; it simply prints the rectangle string.\n",
    "    '''\n",
    "        \n",
    "    rectangle_string = \"\"\n",
    "    \n",
    "   # Write your code below\n",
    "\n",
    "    w = width\n",
    "    h = height\n",
    "    \n",
    "    i = 0\n",
    "    while(i < h):\n",
    "        j = 0\n",
    "        while(j < w):\n",
    "            print(\"*\", end=\"\")\n",
    "            j += 1\n",
    "        print(\"*\")\n",
    "        i += 1\n",
    "rectangle_string = print_rectangle(5, 5)\n",
    "    # End of code\n",
    "#returning is restricted\n",
    "#printing instead of returning prints out none value for the function\n",
    "#(5, 5) given by the specified width and height\n",
    "print(rectangle_string)"
   ]
  },
  {
   "cell_type": "markdown",
   "metadata": {},
   "source": [
    "### Hollow Rectangle"
   ]
  },
  {
   "cell_type": "code",
   "execution_count": 2,
   "metadata": {},
   "outputs": [
    {
     "name": "stdout",
     "output_type": "stream",
     "text": [
      "13\n",
      "7\n",
      "*******\n",
      "*     *\n",
      "*     *\n",
      "*     *\n",
      "*     *\n",
      "*     *\n",
      "*     *\n",
      "*     *\n",
      "*     *\n",
      "*     *\n",
      "*     *\n",
      "*     *\n",
      "*******\n",
      "None\n"
     ]
    }
   ],
   "source": [
    "# GRADED FUNCTION\n",
    "def print_hollow_rectangle(width, height):\n",
    "    '''\n",
    "    (int, int) -> None\n",
    "    \n",
    "    This function prints a hollow rectangle composed of asterisks (*).\n",
    "    The borders of this rectangle are composed of asterisks (\"*\").\n",
    "    The insides of this rectangle are composed of spaces (\" \").\n",
    "    This rectangle should be of the specified width and the specified height.\n",
    "    This function does not return any value; it simply prints the rectangle string.\n",
    "    '''\n",
    "        \n",
    "    rectangle_string = \"\"\n",
    "    \n",
    "    # Write your code below    \n",
    "    w = width\n",
    "    h = height\n",
    "\n",
    "    for i in range(1, w+1):\n",
    "        for j in range(1, h+1):\n",
    "            if (i == 1 or i == w or\n",
    "                j == 1 or j == h):\n",
    "                  print(\"*\", end=\"\")             \n",
    "            else : \n",
    "                print(\" \", end=\"\")\n",
    "        print()\n",
    "    # End of code\n",
    "#returning is restricted\n",
    "#printing instead of returning prints out none value for the function\n",
    "w = int(input())\n",
    "h = int(input())\n",
    "rectangle_string = print_hollow_rectangle(w, h)\n",
    "print(rectangle_string)"
   ]
  },
  {
   "cell_type": "markdown",
   "metadata": {},
   "source": [
    "### Caesar Cipher"
   ]
  },
  {
   "cell_type": "code",
   "execution_count": 47,
   "metadata": {},
   "outputs": [
    {
     "ename": "IndentationError",
     "evalue": "unindent does not match any outer indentation level (<tokenize>, line 40)",
     "output_type": "error",
     "traceback": [
      "\u001b[1;36m  File \u001b[1;32m\"<tokenize>\"\u001b[1;36m, line \u001b[1;32m40\u001b[0m\n\u001b[1;33m    output = ''\u001b[0m\n\u001b[1;37m    ^\u001b[0m\n\u001b[1;31mIndentationError\u001b[0m\u001b[1;31m:\u001b[0m unindent does not match any outer indentation level\n"
     ]
    }
   ],
   "source": [
    "# GRADED FUNCTION\n",
    "def caesar_encrypt(message, shift):\n",
    "\n",
    "        '''\n",
    "    (str, int) -> str\n",
    "    \n",
    "    This function encrypts a message using the Caesar cipher method.\n",
    "    The Caesar cipher \"shifts\" each letter in a message to the right by a specified number.\n",
    "    \n",
    "    For example:\n",
    "    \n",
    "    encrypt('ABC', 2) -> 'CDE'\n",
    "    \n",
    "    In terms of ordinal positions in the alphabet, 'A' is 0, 'B' is 1, and 'C' is 2.\n",
    "    Add the specified number to each of these values to receive 0 + 2 = 2, 2 + 2 = 4, and 3 + 2 = 5.\n",
    "    Converting back to letters from numbers: 2 is 'C', 3 is 'D', and 4 is 'E'.\n",
    "    \n",
    "    Another example:\n",
    "    \n",
    "    encrypt('XYZ', 2) -> 'ZAB'\n",
    "    \n",
    "    In terms of ordinal positions in the alphabet, 'X' is 23, 'Y' is 24, and 'Z' is 25.\n",
    "    Add the specified number to each to receive 25, 26, and 27 respectively.\n",
    "    26 and 27 no longer fall in the range of alphabet numbers, so we need to \"wrap\" them around.\n",
    "      Subtract 26 from 26 and 27 to receive 0 and 1.\n",
    "    The final list of numbers is 25, 0, and 1.\n",
    "    Converting back to letters from numbers: 25 is 'Z', 0 is 'A', and 1 is 'B'.\n",
    "    \n",
    "    You may find these functions helpful:\n",
    "    chr() converts a Unicode integer value to a character (i.e. a letter).\n",
    "      e.g. chr(65) -> 'A'\n",
    "    ord() converts a character (i.e. a letter) to its Unicode integer value.\n",
    "      e.g. ord('A') -> 65\n",
    "      \n",
    "    For your convenience:\n",
    "    1. The message is composed entirely of capital letters. There will be no spaces or lower case letters.\n",
    "    2. The shift number will be between 0 and 25.\n",
    "    3. The alphabet is mapped such that A is 0 and Z is 25.\n",
    "    '''\n",
    "    #indent error if statement above is present\n",
    "    output = ''\n",
    "    \n",
    "    # Write your code below\n",
    "    m = message\n",
    "    s = shift\n",
    "\n",
    "    for c in m:\n",
    "        if c.isupper():\n",
    "            c_unicode_integer = ord(c)\n",
    "            c_index = ord(c) - ord(\"A\")\n",
    "            shifted_index = (c_index + s) % 26\n",
    "            shifted_unicode_integer = shifted_index + ord(\"A\")\n",
    "            c_shifted = chr(shifted_unicode_integer)\n",
    "            output += c_shifted\n",
    "        else:\n",
    "            print(\"Needs to be all capital letters.\")\n",
    "            break\n",
    "    # End of code\n",
    "    return output"
   ]
  },
  {
   "cell_type": "code",
   "execution_count": 45,
   "metadata": {},
   "outputs": [
    {
     "data": {
      "text/plain": [
       "'PSHNHU'"
      ]
     },
     "execution_count": 45,
     "metadata": {},
     "output_type": "execute_result"
    }
   ],
   "source": [
    "caesar_encrypt('ILAGAN', 7)"
   ]
  },
  {
   "cell_type": "markdown",
   "metadata": {},
   "source": [
    "### Vigenere Cipher"
   ]
  },
  {
   "cell_type": "code",
   "execution_count": 48,
   "metadata": {},
   "outputs": [
    {
     "name": "stdout",
     "output_type": "stream",
     "text": [
      "MEAMORE\n",
      "UEDA\n",
      "GIDMIVH\n"
     ]
    }
   ],
   "source": [
    "def length_key(message, keyword): \n",
    "    keyword = list(keyword) \n",
    "    if len(message) == len(keyword): \n",
    "        return(keyword) \n",
    "    else: \n",
    "        for i in range(len(message) - len(keyword)): \n",
    "                keyword.append(keyword[i % len(keyword)]) \n",
    "    return(\"\" . join(keyword)) \n",
    " \n",
    "def vigenere_encrypt(message, keyword): \n",
    "    '''\n",
    "    (str, str) -> str\n",
    "    \n",
    "    This function encrypts a message using the Vigenere cipher method.\n",
    "    \n",
    "    The Vigenere cipher is an extension of the Caesar cipher method.\n",
    "    Instead of using a uniform number, the Vigenere cipher uses a keyword to shift letters.\n",
    "    \n",
    "    Example:\n",
    "    \n",
    "    vigenere_encrypt('ABC', 'KEY') -> 'KFA'\n",
    "    \n",
    "    First, convert the message and the key to numbers.\n",
    "    'ABC' -> [0, 1, 2]\n",
    "    'KEY' -> [10, 4, 24]\n",
    "    Second, add the respective numbers to each other.\n",
    "    [0, 1, 2] + [10, 4, 24] = [10, 5, 26]\n",
    "    Third, correct the numbers that do not fall within 0-25 by subtracting 26.\n",
    "    [10, 5, 26] -> [10, 5, 0]\n",
    "    Fourth, convert the numbers back to letters.\n",
    "    [10, 5, 0] -> 'KFA'\n",
    "    \n",
    "    For your convenience:\n",
    "    1. You are highly encouraged to use your Caesar cipher function from Item 2 in this item.\n",
    "    2. You may assume that the key is the same length as the message.\n",
    "    \n",
    "    Bonus points:\n",
    "    1. +2 (with a perfect base function) (all or nothing) if you adjust for the case that the key is \n",
    "      shorter than the message. (e.g. \"MEAMORE\", \"UEDA\" -> \"MEAMORE\", \"UEDAUED\")\n",
    "    '''\n",
    "    \n",
    "    output = []\n",
    "    for i in range(len(message)): \n",
    "        x = (ord(message[i]) + ord(keyword[i])) % 26\n",
    "        x += ord('A') \n",
    "        output.append(chr(x)) \n",
    "    return(\"\" . join(output)) \n",
    "\n",
    "while True:\n",
    "    message = input()\n",
    "    keyword = input()\n",
    "    if message.isupper() and keyword.isupper():\n",
    "        keyword = length_key(message, keyword) \n",
    "        output = vigenere_encrypt(message,keyword) \n",
    "        print(output)\n",
    "        break\n",
    "    else:\n",
    "        print('Needs to be all capital letters')\n",
    "        break\n"
   ]
  },
  {
   "cell_type": "markdown",
   "metadata": {},
   "source": [
    "### Contact Tracing"
   ]
  },
  {
   "cell_type": "code",
   "execution_count": 38,
   "metadata": {},
   "outputs": [
    {
     "ename": "SyntaxError",
     "evalue": "invalid character in identifier (<ipython-input-38-323ff8ccf598>, line 7)",
     "output_type": "error",
     "traceback": [
      "\u001b[1;36m  File \u001b[1;32m\"<ipython-input-38-323ff8ccf598>\"\u001b[1;36m, line \u001b[1;32m7\u001b[0m\n\u001b[1;33m    ​\u001b[0m\n\u001b[1;37m    ^\u001b[0m\n\u001b[1;31mSyntaxError\u001b[0m\u001b[1;31m:\u001b[0m invalid character in identifier\n"
     ]
    }
   ],
   "source": [
    "# SETUP. DO NOT EDIT THESE LINES.\n",
    "sample_initial_infected_person = 'C'\n",
    "sample_movement_list = ['LMcSEDJfZAqbWRUgYeurIdtzKoihOxBmkQjFlpvNwXyPnCasGHVT',\n",
    "                         'ihpSPvorENDadfcyjnqlmgHWxTCKGIUkeOZzMJXYsuAwVbLRQBFt',\n",
    "                         'qepTuMENGwDztARCImQhiJXfnWbcaVvyrLsZjdYKSFBHPoxglOkU']\n",
    "# END OF SETUP.\n",
    "​\n",
    "# GRADED FUNCTION\n",
    "def trace(initial_infected_person, movement_list):\n",
    "    '''\n",
    "    (str, [str]) -> [str]\n",
    "    \n",
    "    This function simulates tracing an infected person and marking people they come into contact with.\n",
    "    \n",
    "    '''\n",
    "    final_list_of_infected = []\n",
    "    #list of elements that can be infected\n",
    "    group = set[]\n",
    "    \n",
    "    g = group\n",
    "    # Only one initial infected\n",
    "    if len(initial_infected_person) == 1:\n",
    "        g.append(initial_infected_person)\n",
    "        #adding infected in list\n",
    "        for p in movement_list:\n",
    "            new_infected = ''.join(g)\n",
    "            ni = new_infected\n",
    "            #infected infects elements beside it\n",
    "            for c in ni:\n",
    "                position = p.find(c)\n",
    "                pos = position\n",
    "                #if infected at leftmost\n",
    "                if pos == 0:\n",
    "                    right_infect = g.append(p[pos + 1])\n",
    "                # if infected at rightmost\n",
    "                elif pos == len(p)-1:\n",
    "                    left_infect = g.append(p[pos - 1])\n",
    "                #if infected in between\n",
    "                else:\n",
    "                    right_infect = g.append(p[pos + 1])\n",
    "                    left_infect = g.append(p[pos - 1])\n",
    "        #set to to discard duplicates\n",
    "        final_list_of_infected=set(g)\n",
    "        return final_list_of_infected\n",
    "    else:\n",
    "        print('Only one initial infected.')"
   ]
  },
  {
   "cell_type": "code",
   "execution_count": 40,
   "metadata": {},
   "outputs": [
    {
     "data": {
      "text/plain": [
       "{'C',\n",
       " 'D',\n",
       " 'I',\n",
       " 'K',\n",
       " 'R',\n",
       " 'S',\n",
       " 'T',\n",
       " 'V',\n",
       " 'W',\n",
       " 'Y',\n",
       " 'Z',\n",
       " 'a',\n",
       " 'c',\n",
       " 'd',\n",
       " 'e',\n",
       " 'f',\n",
       " 'j',\n",
       " 'n',\n",
       " 'p',\n",
       " 'q',\n",
       " 'u',\n",
       " 'w',\n",
       " 'z'}"
      ]
     },
     "execution_count": 40,
     "metadata": {},
     "output_type": "execute_result"
    }
   ],
   "source": [
    "trace('C',['LMcSEDJfZAqbWRUgYeurIdtzKoihOxBmkQjFlpvNwXyPnCasGHVT', 'ihpSPvorENDadfcyjnqlmgHWxTCKGIUkeOZzMJXYsuAwVbLRQBFt', \n",
    "           'qepTuMENGwDztARCImQhiJXfnWbcaVvyrLsZjdYKSFBHPoxglOkU'])"
   ]
  },
  {
   "cell_type": "code",
   "execution_count": null,
   "metadata": {},
   "outputs": [],
   "source": []
  }
 ],
 "metadata": {
  "kernelspec": {
   "display_name": "Python 3",
   "language": "python",
   "name": "python3"
  },
  "language_info": {
   "codemirror_mode": {
    "name": "ipython",
    "version": 3
   },
   "file_extension": ".py",
   "mimetype": "text/x-python",
   "name": "python",
   "nbconvert_exporter": "python",
   "pygments_lexer": "ipython3",
   "version": "3.7.6"
  }
 },
 "nbformat": 4,
 "nbformat_minor": 4
}
