{
 "cells": [
  {
   "cell_type": "markdown",
   "metadata": {},
   "source": [
    "### 1.Turning tables"
   ]
  },
  {
   "cell_type": "code",
   "execution_count": 2,
   "metadata": {},
   "outputs": [
    {
     "name": "stdout",
     "output_type": "stream",
     "text": [
      "Enter number of rows:5\n",
      "<table>\n",
      "<tr class=\"lightyellowrow\"><td>1</td><td>1</td></tr>\n",
      "<tr class=\"whiterow\"><td>2</td><td>4</td></tr>\n",
      "<tr class=\"lightyellowrow\"><td>3</td><td>9</td></tr>\n",
      "<tr class=\"whiterow\"><td>4</td><td>16</td></tr>\n",
      "<tr class=\"lightyellowrow\"><td>5</td><td>25</td></tr>\n",
      "</table>\n"
     ]
    }
   ],
   "source": [
    "rows = int(input('Enter number of rows:'))\n",
    "print ('<table>')\n",
    "i = 0\n",
    "for i in range(rows):\n",
    "    i += 1\n",
    "    squared = i**2\n",
    "    if i%2 == 0:\n",
    "        print ('<tr class=\"whiterow\"><td>',i,'</td><td>',squared,'</td></tr>',sep='')\n",
    "    else:\n",
    "        print ('<tr class=\"lightyellowrow\"><td>',i,'</td><td>',squared,'</td></tr>',sep='')\n",
    "print('</table>')"
   ]
  },
  {
   "cell_type": "markdown",
   "metadata": {},
   "source": [
    "### 2. Dating norms"
   ]
  },
  {
   "cell_type": "code",
   "execution_count": 6,
   "metadata": {},
   "outputs": [
    {
     "name": "stdout",
     "output_type": "stream",
     "text": [
      "Day:29\n",
      "Month:2\n",
      "Year:2000\n",
      "It is the 29 th day of the month of February of the year 2000\n"
     ]
    }
   ],
   "source": [
    "day = int(input('Day:'))\n",
    "month = int(input('Month:'))\n",
    "year = int(input('Year:'))\n",
    "if month > 12 or month < 1:\n",
    "    print('Date is not valid')\n",
    "elif month==1 or month==3 or month==5 or month==7 or month==8 or month==10 or month==12:\n",
    "        if day <=31 and day > 0:\n",
    "            if month==1:\n",
    "                month_name='January'\n",
    "            elif month==3:\n",
    "                month_name='March'\n",
    "            elif month==5:\n",
    "                month_name='May'\n",
    "            elif month==7:\n",
    "                month_name='July'\n",
    "            elif month==8:\n",
    "                month_name='August'\n",
    "            elif month==10:\n",
    "                month_name='October'\n",
    "            elif month==12:\n",
    "                month_name='December'\n",
    "            else:\n",
    "                print('Date is not valid')\n",
    "elif month==4 or month==6 or month==9 or month==11:\n",
    "        if day <= 30 and day > 0:\n",
    "            if month==4:\n",
    "                month_name='April'\n",
    "            elif month==6:\n",
    "                month_name='June'\n",
    "            elif month==9:\n",
    "                month_name='September'\n",
    "            elif month==11:\n",
    "                month_name='November'\n",
    "            else:\n",
    "                print('Date is not valid')\n",
    "else:\n",
    "    if month==2:\n",
    "        if day <= 29 and day > 0:\n",
    "            if year % 4==0:\n",
    "                if year % 100==0:\n",
    "                    if year % 400==0:\n",
    "                        month_name='February'\n",
    "            else:\n",
    "                print('Date is not valid.')\n",
    "if day == 1 or day == 11 or day == 21 or day == 31:\n",
    "    print('It is the', day,'st','day of the month of', month_name, 'of the year', year)\n",
    "elif day == 2 or day == 12 or day == 22:\n",
    "    print('It is the', day,'nd','day of the month of', month_name, 'of the year', year)\n",
    "elif day == 3 or day == 13 or day == 23:\n",
    "    print('It is the', day,'rd','day of the month of', month_name, 'of the year', year)\n",
    "else:\n",
    "     print('It is the', day,'th','day of the month of', month_name, 'of the year', year)"
   ]
  },
  {
   "cell_type": "markdown",
   "metadata": {},
   "source": [
    "### 3. Followers"
   ]
  },
  {
   "cell_type": "code",
   "execution_count": 7,
   "metadata": {},
   "outputs": [
    {
     "name": "stdout",
     "output_type": "stream",
     "text": [
      "obedient420\n",
      "True\n"
     ]
    }
   ],
   "source": [
    "i = int(input('obedient'))\n",
    "if (i//3) + (i//3-1) + (i//3+1) == i:\n",
    "    print('True')\n",
    "else:\n",
    "    print('False')"
   ]
  },
  {
   "cell_type": "markdown",
   "metadata": {},
   "source": [
    "### 4. Go forth and multiply"
   ]
  },
  {
   "cell_type": "code",
   "execution_count": 8,
   "metadata": {},
   "outputs": [
    {
     "name": "stdout",
     "output_type": "stream",
     "text": [
      "multtable:7\n",
      "1        2        3        4        5        6        7       \n",
      "2        4        6        8        10       12       14      \n",
      "3        6        9        12       15       18       21      \n",
      "4        8        12       16       20       24       28      \n",
      "5        10       15       20       25       30       35      \n",
      "6        12       18       24       30       36       42      \n",
      "7        14       21       28       35       42       49      \n"
     ]
    }
   ],
   "source": [
    "i = int(input('multtable:'))\n",
    "if i >= 0:\n",
    "    for row in range(1, i+1):\n",
    "        print(*('{:<8}'.format(row*col)for col in range(1, i+1)))\n",
    "else:\n",
    "    print('Not a natural number.')"
   ]
  },
  {
   "cell_type": "markdown",
   "metadata": {},
   "source": [
    "### 5. Avatar"
   ]
  },
  {
   "cell_type": "code",
   "execution_count": 9,
   "metadata": {},
   "outputs": [
    {
     "name": "stdout",
     "output_type": "stream",
     "text": [
      "Do you prefer (a)the mountain, (b)the city, or (c)the beach?a\n",
      "Do you prefer (a)yoghurt, (b)ice cream, or (c)gelato?a\n",
      "Do you prefer (a)reading, (b)singing, or (c)writing?b\n",
      "Do you prefer (a)sweet, (b)salty, or (c)spicy food?a\n",
      "Do you prefer (a)cats, (b)dogs, or (c)fish?a\n",
      "Your element is Earth\n"
     ]
    }
   ],
   "source": [
    "Earth = 0\n",
    "Water = 0\n",
    "Fire = 0\n",
    "while True:\n",
    "    person=input('Do you prefer (a)the mountain, (b)the city, or (c)the beach?')\n",
    "    if person == 'a':\n",
    "        Fire += 1\n",
    "    elif person == 'b':\n",
    "        Earth += 1\n",
    "    elif person == 'c':\n",
    "        Water += 1\n",
    "    else:\n",
    "        print('\"Sorry, you inputted a wrong letter. Please start again.\"')\n",
    "        continue\n",
    "    person=input('Do you prefer (a)yoghurt, (b)ice cream, or (c)gelato?')\n",
    "    if person == 'a':\n",
    "        Earth += 1\n",
    "    elif person == 'b':\n",
    "        Water += 1\n",
    "    elif person == 'c':\n",
    "        Fire += 1\n",
    "    else:\n",
    "        print('\"Sorry, you inputted a wrong letter. Please start again.\"')\n",
    "        continue\n",
    "    person=input('Do you prefer (a)reading, (b)singing, or (c)writing?')\n",
    "    if person == 'a':\n",
    "        Water += 1\n",
    "    elif person == 'b':\n",
    "        Fire += 1\n",
    "    elif person == 'c':\n",
    "        Earth += 1\n",
    "    else:\n",
    "        print('\"Sorry, you inputted a wrong letter. Please start again.\"')\n",
    "        continue\n",
    "    person=input('Do you prefer (a)sweet, (b)salty, or (c)spicy food?')\n",
    "    if person == 'a':\n",
    "        Earth += 1\n",
    "    elif person == 'b':\n",
    "        Water += 1\n",
    "    elif person == 'c':\n",
    "        Fire += 1\n",
    "    else:\n",
    "        print('\"Sorry, you inputted a wrong letter. Please start again.\"')\n",
    "        continue\n",
    "    person=input('Do you prefer (a)cats, (b)dogs, or (c)fish?')\n",
    "    if person == 'a':\n",
    "        Earth += 1\n",
    "        break\n",
    "    elif person == 'b':\n",
    "        Fire += 1\n",
    "        break\n",
    "    elif person == 'c':\n",
    "        Water += 1\n",
    "        break\n",
    "    else:\n",
    "        print('\"Sorry, you inputted a wrong letter. Please start again.\"')\n",
    "        continue\n",
    "if Water > Fire and Water > Earth:\n",
    "    element = 'Water'\n",
    "elif Water > Fire and Water == Earth:\n",
    "    element = 'Water'\n",
    "elif Earth > Water and Earth > Fire:\n",
    "    element = 'Earth'\n",
    "elif Earth > Water and Earth > Fire:\n",
    "    element = 'Earth'\n",
    "elif Fire > Water and Fire > Earth:\n",
    "    element = 'Fire'\n",
    "else:\n",
    "    element = 'Fire'\n",
    "print('Your element is', element)"
   ]
  },
  {
   "cell_type": "code",
   "execution_count": null,
   "metadata": {},
   "outputs": [],
   "source": []
  }
 ],
 "metadata": {
  "kernelspec": {
   "display_name": "Python 3",
   "language": "python",
   "name": "python3"
  },
  "language_info": {
   "codemirror_mode": {
    "name": "ipython",
    "version": 3
   },
   "file_extension": ".py",
   "mimetype": "text/x-python",
   "name": "python",
   "nbconvert_exporter": "python",
   "pygments_lexer": "ipython3",
   "version": "3.7.6"
  }
 },
 "nbformat": 4,
 "nbformat_minor": 4
}
