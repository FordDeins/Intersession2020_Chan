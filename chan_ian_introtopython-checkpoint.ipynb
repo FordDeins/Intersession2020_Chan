{
 "cells": [
  {
   "cell_type": "markdown",
   "metadata": {},
   "source": [
    "```\n",
    "191070\n",
    "Chan\n",
    "2 BS ME\n",
    "```\n",
    "1. Enter first number = n1\n",
    "2. Enter second number = n2\n",
    "3. Enter third number = n3\n",
    "4. Average = (n1+n2+n3)/3\n",
    "5. Print out average"
   ]
  },
  {
   "cell_type": "code",
   "execution_count": 2,
   "metadata": {},
   "outputs": [],
   "source": [
    "def three_number_average(n1, n2, n3):\n",
    "    average = (n1+n2+n3)/3\n",
    "    return average"
   ]
  },
  {
   "cell_type": "code",
   "execution_count": 4,
   "metadata": {},
   "outputs": [
    {
     "name": "stdout",
     "output_type": "stream",
     "text": [
      "Enter first number:5\n",
      "Enter second nuumber:10\n",
      "Enter third nuumber:15\n",
      "The average is: 10.0\n"
     ]
    }
   ],
   "source": [
    "#Enter first number\n",
    "n1 = float(input('Enter first number:'))\n",
    "#Enter second number\n",
    "n2 = float(input('Enter second nuumber:'))\n",
    "#Enter third number\n",
    "n3 = float(input('Enter third nuumber:'))\n",
    "#Average\n",
    "average = three_number_average(n1, n2, n3)\n",
    "#Print out average\n",
    "print('The average is:', average)"
   ]
  },
  {
   "cell_type": "code",
   "execution_count": null,
   "metadata": {},
   "outputs": [],
   "source": []
  }
 ],
 "metadata": {
  "kernelspec": {
   "display_name": "Python 3",
   "language": "python",
   "name": "python3"
  },
  "language_info": {
   "codemirror_mode": {
    "name": "ipython",
    "version": 3
   },
   "file_extension": ".py",
   "mimetype": "text/x-python",
   "name": "python",
   "nbconvert_exporter": "python",
   "pygments_lexer": "ipython3",
   "version": "3.7.6"
  }
 },
 "nbformat": 4,
 "nbformat_minor": 4
}
