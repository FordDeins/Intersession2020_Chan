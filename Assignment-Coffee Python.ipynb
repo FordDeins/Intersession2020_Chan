{
 "cells": [
  {
   "cell_type": "code",
   "execution_count": 2,
   "metadata": {},
   "outputs": [],
   "source": [
    "products = {\n",
    "    \"americano\":{\"name\":\"Americano\",\"price\":150.00},\n",
    "    \"brewedcoffee\":{\"name\":\"Brewed Coffee\",\"price\":110.00},\n",
    "    \"cappuccino\":{\"name\":\"Cappuccino\",\"price\":170.00},\n",
    "    \"dalgona\":{\"name\":\"Dalgona\",\"price\":170.00},\n",
    "    \"espresso\":{\"name\":\"Espresso\",\"price\":140.00},\n",
    "    \"frappuccino\":{\"name\":\"Frappuccino\",\"price\":170.00},\n",
    "}"
   ]
  },
  {
   "cell_type": "markdown",
   "metadata": {},
   "source": [
    "### 1. product information lookup function (3 points)\n",
    "Write a function get_product(code) where code is the key of the product information in the products dictionary. The function should return the dictionary containing the specific product information. For example:\n",
    "\n",
    "get_product(\"espresso\")\n",
    "\n",
    "should yield\n",
    "\n",
    "{\"name\":\"Espresso\",\"price\":140.00}"
   ]
  },
  {
   "cell_type": "code",
   "execution_count": 3,
   "metadata": {},
   "outputs": [
    {
     "data": {
      "text/plain": [
       "{'name': 'Espresso', 'price': 140.0}"
      ]
     },
     "execution_count": 3,
     "metadata": {},
     "output_type": "execute_result"
    }
   ],
   "source": [
    "## Answer\n",
    "\n",
    "def get_product(code):\n",
    "    ## write your code here\n",
    "    product = products[code]\n",
    "    return product\n",
    "get_product(\"espresso\")"
   ]
  },
  {
   "cell_type": "markdown",
   "metadata": {},
   "source": [
    "### 2. retrieve product attributes (2 points)\n",
    "a. Write one line of code that calls get_product(code) and evaluates to the price of that product."
   ]
  },
  {
   "cell_type": "code",
   "execution_count": 4,
   "metadata": {},
   "outputs": [
    {
     "data": {
      "text/plain": [
       "140.0"
      ]
     },
     "execution_count": 4,
     "metadata": {},
     "output_type": "execute_result"
    }
   ],
   "source": [
    "#Input based on sample ouput\n",
    "get_product(\"espresso\")[\"price\"]"
   ]
  },
  {
   "cell_type": "markdown",
   "metadata": {},
   "source": [
    "b. Write one line of code that calls get_product(code) and evaluates to the name of that product.\n",
    "\n",
    "You may include your one line of code inside a function that returns the name. The function definition and the return statements are excluded from the count."
   ]
  },
  {
   "cell_type": "code",
   "execution_count": 5,
   "metadata": {},
   "outputs": [
    {
     "data": {
      "text/plain": [
       "'Espresso'"
      ]
     },
     "execution_count": 5,
     "metadata": {},
     "output_type": "execute_result"
    }
   ],
   "source": [
    "## Answer\n",
    "def get_product_name(code):\n",
    "    return get_product(code)[\"name\"]\n",
    "#evaluation based on sample output\n",
    "get_product_name(\"espresso\")\n",
    "## write your answer here (sample output has already been provided below)"
   ]
  },
  {
   "cell_type": "markdown",
   "metadata": {},
   "source": [
    "### 2. Point-of-Sale Terminal (5 points)\n",
    "Write a function main that asks for orders of food from a customer. The system should ask for the following:\n",
    "\n",
    "Product Code (assume that the clerk has memorized the product codes)\n",
    "Quantity\n",
    "The system then must update an electronic food tray (which is just a fancy term for a list of items ordered). Implement the food tray as a list of ordered items, each of which is a dictionary containing the following key-value pairs:\n",
    "\n",
    "product_code,\n",
    "quantity\n",
    "subtotal (which is just the quantity multiplied by the price of the product)\n",
    "Design your program such that food_tray is a variable of the main function for now. We will deal with better software design later on. In any case, if any of your functions need to work on the food_tray, pass it as a parameter.\n",
    "\n",
    "The system must compute the subtotal before appending to the food tray.\n",
    "\n",
    "The system must be able to determine if the customer is done with his/her order. Once done, the system notifies the clerk/user of the grand total.\n",
    "\n",
    "The system then prints out the receipt (for now, just show it appear in the notebook), after which it is ready to process the next customer order. Make sure to clear out the food_tray after each successful order.\n",
    "\n",
    "Bonus (2 points): Format the receipt output using various print formatting options. You will have to do research on this."
   ]
  },
  {
   "cell_type": "code",
   "execution_count": 6,
   "metadata": {},
   "outputs": [],
   "source": [
    "def add_to_tray(food_tray, ordered_item):\n",
    "    ## write your code here\n",
    "    food_tray.append(ordered_item)\n",
    "    return food_tray"
   ]
  },
  {
   "cell_type": "code",
   "execution_count": 7,
   "metadata": {},
   "outputs": [],
   "source": [
    "def generate_receipt(food_tray):\n",
    "    print(\"-----------------------------------------------------\")\n",
    "    \n",
    "    accum = 0\n",
    "    for o in food_tray:\n",
    "        code = o[\"code\"]\n",
    "        product_name = get_product_name(code)\n",
    "        qty = o[\"qty\"]\n",
    "        subtotal = o[\"subtotal\"]\n",
    "        accum += subtotal\n",
    "        print(\"{0:<10s}{1:<20s}{2:<2d}{3:>20.1f}\".format(code, product_name, qty, subtotal))\n",
    "    print(\"\")\n",
    "    print(\"{0:<30s}{1:>22.1f}\".format(\"Total:\", accum))\n",
    "    print(\"-----------------------------------------------------\")\n",
    "#Change index wiyth variable or use % instead"
   ]
  },
  {
   "cell_type": "markdown",
   "metadata": {},
   "source": [
    "\n",
    "Hint: The ordered_item dictionary inside main() has at least three keys: code, qty, and subtotal. You know how to get code and qty as these come from variables storing entered values from input(\"...\"). To compute subtotal you need to get the price of the product (using code) somewhere. Your answer in 2a. will help you.\n",
    "\n",
    "This new ordered_item dictionary will then need to be added to the food_tray list in a later step. We can add dictionaries to lists, right? Call the function add_to_tray(food_tray, ordered_item) to do this.\n",
    "\n",
    "The variable food_tray is a list of dictionaries. The ordered_item variable is a dictionary."
   ]
  },
  {
   "cell_type": "code",
   "execution_count": 8,
   "metadata": {},
   "outputs": [],
   "source": [
    "def main():\n",
    "    \n",
    "    food_tray = []\n",
    "    command = \"N\"\n",
    "    while(True):\n",
    "        command = input(\"Options: N-New customer, Q-Quit \")\n",
    "        if(command.upper()==\"Q\"):\n",
    "            break\n",
    "        else:\n",
    "            more = \"Y\"\n",
    "            while(more==\"Y\"):\n",
    "                code = input(\"Enter Product Code: \")\n",
    "                qty = int(input(\"Enter Quantity: \"))\n",
    "                print(code + \": \"+str(qty))\n",
    "                ## add code here\n",
    "                ordered_item = dict()\n",
    "                ordered_item[\"code\"] = code\n",
    "                ordered_item[\"qty\"] = qty\n",
    "                ## compute subtotal and add to the ordered_item dictionary\n",
    "                ordered_item[\"subtotal\"] = int(qty) * get_product(code)[\"price\"]\n",
    "                \n",
    "                ## add to food_tray\n",
    "                add_to_tray(food_tray,ordered_item)\n",
    "\n",
    "                more = input(\"Add more items? (Y/N): \").upper()\n",
    "                \n",
    "        # print(food_tray) # replace with an on-screen receipt\n",
    "        generate_receipt(food_tray)\n",
    "        food_tray = [] # clear out food tray\n",
    "        \n",
    "        \n",
    "    print(\"Exiting CoffeePython POS Terminal. Have a great day.\")"
   ]
  },
  {
   "cell_type": "code",
   "execution_count": 9,
   "metadata": {},
   "outputs": [
    {
     "name": "stdout",
     "output_type": "stream",
     "text": [
      "Options: N-New customer, Q-Quit N\n",
      "Enter Product Code: americano\n",
      "Enter Quantity: 2\n",
      "americano: 2\n",
      "Add more items? (Y/N): N\n",
      "-----------------------------------------------------\n",
      "americano Americano           2                300.0\n",
      "\n",
      "Total:                                         300.0\n",
      "-----------------------------------------------------\n",
      "Options: N-New customer, Q-Quit N\n",
      "Enter Product Code: americano\n",
      "Enter Quantity: 3\n",
      "americano: 3\n",
      "Add more items? (Y/N): Y\n",
      "Enter Product Code: dalgona\n",
      "Enter Quantity: 3\n",
      "dalgona: 3\n",
      "Add more items? (Y/N): N\n",
      "-----------------------------------------------------\n",
      "americano Americano           3                450.0\n",
      "dalgona   Dalgona             3                510.0\n",
      "\n",
      "Total:                                         960.0\n",
      "-----------------------------------------------------\n",
      "Options: N-New customer, Q-Quit Q\n",
      "Exiting CoffeePython POS Terminal. Have a great day.\n"
     ]
    }
   ],
   "source": [
    "# Sample output has been provided below\n",
    "main()"
   ]
  }
 ],
 "metadata": {
  "kernelspec": {
   "display_name": "Python 3",
   "language": "python",
   "name": "python3"
  },
  "language_info": {
   "codemirror_mode": {
    "name": "ipython",
    "version": 3
   },
   "file_extension": ".py",
   "mimetype": "text/x-python",
   "name": "python",
   "nbconvert_exporter": "python",
   "pygments_lexer": "ipython3",
   "version": "3.7.6"
  }
 },
 "nbformat": 4,
 "nbformat_minor": 4
}
